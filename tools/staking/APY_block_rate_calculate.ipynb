{
 "cells": [
  {
   "cell_type": "code",
   "execution_count": 34,
   "metadata": {},
   "outputs": [],
   "source": [
    "import numpy as np\n",
    "import matplotlib.pylab as plt\n",
    "import random"
   ]
  },
  {
   "cell_type": "markdown",
   "metadata": {},
   "source": [
    "#### Deriving:\n",
    "\n",
    "$$ 1 + rate = (1+rate_{block}) ^ {block_{year}}$$\n",
    "\n",
    "$$\n",
    "log_2( 1 + rate) = block_{year} log_2(1+rate_{block})\n",
    "$$\n",
    "\n",
    "$$\n",
    "2^{\\frac{log_2(1 + rate)}{block_{year}}} = 1 + rate_{block}\n",
    "$$\n",
    "\n",
    "$$ rate_{block} = (1 + rate)^{\\frac{1}{(block_{year})}} - 1 $$"
   ]
  },
  {
   "cell_type": "code",
   "execution_count": 2,
   "metadata": {},
   "outputs": [],
   "source": [
    "interest_rate = 0.054 + (2.68-0.054) * np.linspace(0,1,120) ** 1.6"
   ]
  },
  {
   "cell_type": "code",
   "execution_count": 3,
   "metadata": {},
   "outputs": [
    {
     "data": {
      "text/plain": [
       "array([0.054, 0.055, 0.058, 0.061, 0.066, 0.07 , 0.076, 0.082, 0.089,\n",
       "       0.096, 0.104, 0.112, 0.121, 0.13 , 0.14 , 0.15 , 0.16 , 0.171,\n",
       "       0.182, 0.193, 0.205, 0.218, 0.23 , 0.243, 0.257, 0.27 , 0.284,\n",
       "       0.299, 0.313, 0.328, 0.344, 0.359, 0.375, 0.391, 0.408, 0.425,\n",
       "       0.442, 0.459, 0.477, 0.495, 0.513, 0.531, 0.55 , 0.569, 0.588,\n",
       "       0.608, 0.628, 0.648, 0.668, 0.689, 0.71 , 0.731, 0.752, 0.774,\n",
       "       0.796, 0.818, 0.84 , 0.863, 0.886, 0.909, 0.932, 0.955, 0.979,\n",
       "       1.003, 1.027, 1.052, 1.077, 1.101, 1.127, 1.152, 1.178, 1.203,\n",
       "       1.229, 1.256, 1.282, 1.309, 1.336, 1.363, 1.39 , 1.417, 1.445,\n",
       "       1.473, 1.501, 1.53 , 1.558, 1.587, 1.616, 1.645, 1.674, 1.704,\n",
       "       1.734, 1.764, 1.794, 1.824, 1.855, 1.885, 1.916, 1.947, 1.979,\n",
       "       2.01 , 2.042, 2.074, 2.106, 2.138, 2.171, 2.203, 2.236, 2.269,\n",
       "       2.303, 2.336, 2.37 , 2.403, 2.437, 2.471, 2.506, 2.54 , 2.575,\n",
       "       2.61 , 2.645, 2.68 ])"
      ]
     },
     "execution_count": 3,
     "metadata": {},
     "output_type": "execute_result"
    }
   ],
   "source": [
    "interest_rate = np.round(interest_rate *1000 ).astype(np.uint64) / 1000\n",
    "interest_rate"
   ]
  },
  {
   "cell_type": "code",
   "execution_count": 4,
   "metadata": {},
   "outputs": [
    {
     "data": {
      "text/plain": [
       "array([  54,   55,   58,   61,   66,   70,   76,   82,   89,   96,  104,\n",
       "        112,  121,  130,  140,  150,  160,  171,  182,  193,  205,  218,\n",
       "        230,  243,  257,  270,  284,  299,  313,  328,  344,  359,  375,\n",
       "        391,  408,  425,  442,  459,  477,  495,  513,  531,  550,  569,\n",
       "        588,  608,  628,  648,  668,  689,  710,  731,  752,  774,  796,\n",
       "        818,  840,  863,  886,  909,  932,  955,  979, 1002, 1027, 1052,\n",
       "       1077, 1101, 1127, 1152, 1178, 1203, 1229, 1256, 1282, 1309, 1336,\n",
       "       1363, 1390, 1417, 1445, 1473, 1501, 1530, 1558, 1587, 1616, 1645,\n",
       "       1674, 1704, 1734, 1764, 1794, 1824, 1855, 1885, 1916, 1947, 1979,\n",
       "       2009, 2041, 2074, 2106, 2138, 2171, 2203, 2236, 2269, 2303, 2336,\n",
       "       2370, 2403, 2437, 2471, 2506, 2540, 2575, 2610, 2645, 2680],\n",
       "      dtype=uint64)"
      ]
     },
     "execution_count": 4,
     "metadata": {},
     "output_type": "execute_result"
    }
   ],
   "source": [
    "(interest_rate *1000).astype(np.uint64)"
   ]
  },
  {
   "cell_type": "code",
   "execution_count": 5,
   "metadata": {},
   "outputs": [
    {
     "data": {
      "text/plain": [
       "1971000"
      ]
     },
     "execution_count": 5,
     "metadata": {},
     "output_type": "execute_result"
    }
   ],
   "source": [
    "block_year = 365 * 24 * 3600 // 16\n",
    "block_year"
   ]
  },
  {
   "cell_type": "code",
   "execution_count": 6,
   "metadata": {},
   "outputs": [],
   "source": [
    "rate_block = (1 + interest_rate)**(1/block_year) - 1"
   ]
  },
  {
   "cell_type": "code",
   "execution_count": 7,
   "metadata": {},
   "outputs": [
    {
     "data": {
      "text/plain": [
       "array([2.66831308e-08, 2.71642657e-08, 2.86049386e-08, 3.00415324e-08,\n",
       "       3.24268528e-08, 3.43270672e-08, 3.71641111e-08, 3.99853790e-08,\n",
       "       4.32571516e-08, 4.65079608e-08, 5.01978439e-08, 5.38610851e-08,\n",
       "       5.79508612e-08, 6.20079332e-08, 6.64780653e-08, 7.09091563e-08,\n",
       "       7.53018827e-08, 8.00903557e-08, 8.48340569e-08, 8.95338159e-08,\n",
       "       9.46116570e-08, 1.00055900e-07, 1.05030026e-07, 1.10364193e-07,\n",
       "       1.16046648e-07, 1.21266826e-07, 1.26829133e-07, 1.32721844e-07,\n",
       "       1.38160636e-07, 1.43923933e-07, 1.50000134e-07, 1.55631232e-07,\n",
       "       1.61569638e-07, 1.67439341e-07, 1.73602378e-07, 1.79691449e-07,\n",
       "       1.85708307e-07, 1.91654645e-07, 1.97875719e-07, 2.04021435e-07,\n",
       "       2.10093596e-07, 2.16093944e-07, 2.22351588e-07, 2.28532991e-07,\n",
       "       2.34639988e-07, 2.40989969e-07, 2.47261455e-07, 2.53456365e-07,\n",
       "       2.59576545e-07, 2.65924256e-07, 2.72193528e-07, 2.78386277e-07,\n",
       "       2.84504349e-07, 2.90835600e-07, 2.97088816e-07, 3.03265899e-07,\n",
       "       3.09368679e-07, 3.15671329e-07, 3.21896644e-07, 3.28046500e-07,\n",
       "       3.34122702e-07, 3.40126995e-07, 3.46317496e-07, 3.52433373e-07,\n",
       "       3.58476405e-07, 3.64695616e-07, 3.70839513e-07, 3.76668474e-07,\n",
       "       3.82908514e-07, 3.88837033e-07, 3.94930075e-07, 4.00720561e-07,\n",
       "       4.06673373e-07, 4.12782091e-07, 4.18595852e-07, 4.24563525e-07,\n",
       "       4.30461820e-07, 4.36292332e-07, 4.42056600e-07, 4.47756113e-07,\n",
       "       4.53599861e-07, 4.59377066e-07, 4.65089226e-07, 4.70938367e-07,\n",
       "       4.76522540e-07, 4.82242076e-07, 4.87897853e-07, 4.93491276e-07,\n",
       "       4.99023706e-07, 5.04684124e-07, 5.10282088e-07, 5.15818959e-07,\n",
       "       5.21296057e-07, 5.26714659e-07, 5.32253740e-07, 5.37557171e-07,\n",
       "       5.42979759e-07, 5.48345003e-07, 5.53824443e-07, 5.59076807e-07,\n",
       "       5.64442165e-07, 5.69751377e-07, 5.75005607e-07, 5.80205980e-07,\n",
       "       5.85513614e-07, 5.90607922e-07, 5.95808396e-07, 6.00956105e-07,\n",
       "       6.06205737e-07, 6.11249545e-07, 6.16394277e-07, 6.21338293e-07,\n",
       "       6.26382235e-07, 6.31376524e-07, 6.36466862e-07, 6.41363335e-07,\n",
       "       6.46354940e-07, 6.51297915e-07, 6.56193196e-07, 6.61041696e-07])"
      ]
     },
     "execution_count": 7,
     "metadata": {},
     "output_type": "execute_result"
    }
   ],
   "source": [
    "rate_block"
   ]
  },
  {
   "cell_type": "code",
   "execution_count": 8,
   "metadata": {},
   "outputs": [],
   "source": [
    "unitfied = 10e16 / (rate_block * 10e16)"
   ]
  },
  {
   "cell_type": "code",
   "execution_count": 9,
   "metadata": {},
   "outputs": [],
   "source": [
    "unitfied = np.ceil(unitfied).astype(np.uint64)"
   ]
  },
  {
   "cell_type": "code",
   "execution_count": 10,
   "metadata": {},
   "outputs": [
    {
     "data": {
      "text/plain": [
       "array([37476862, 36813070, 34958999, 33287251, 30838639, 29131531,\n",
       "       26907680, 25009142, 23117565, 21501696, 19921175, 18566281,\n",
       "       17255999, 16126969, 15042556, 14102552, 13279881, 12485898,\n",
       "       11787719, 11168965, 10569523,  9994414,  9521087,  9060910,\n",
       "        8617225,  8246279,  7884624,  7534555,  7237952,  6948115,\n",
       "        6666661,  6425446,  6189282,  5972313,  5760290,  5565096,\n",
       "        5384789,  5217719,  5053678,  4901446,  4759784,  4627617,\n",
       "        4497382,  4375736,  4261849,  4149551,  4044303,  3945453,\n",
       "        3852429,  3760470,  3673857,  3592132,  3514885,  3438369,\n",
       "        3365997,  3297437,  3232390,  3167852,  3106588,  3048349,\n",
       "        2992913,  2940079,  2887524,  2837416,  2789584,  2742013,\n",
       "        2696585,  2654855,  2611590,  2571772,  2532094,  2495505,\n",
       "        2458976,  2422586,  2388940,  2355361,  2323087,  2292042,\n",
       "        2262154,  2233359,  2204587,  2176861,  2150126,  2123421,\n",
       "        2098537,  2073648,  2049610,  2026379,  2003913,  1981438,\n",
       "        1959701,  1938665,  1918296,  1898562,  1878804,  1860268,\n",
       "        1841690,  1823670,  1805627,  1788664,  1771661,  1755152,\n",
       "        1739114,  1723526,  1707903,  1693171,  1678392,  1664016,\n",
       "        1649605,  1635994,  1622339,  1609430,  1596470,  1583841,\n",
       "        1571174,  1559179,  1547138,  1535396,  1523942,  1512764],\n",
       "      dtype=uint64)"
      ]
     },
     "execution_count": 10,
     "metadata": {},
     "output_type": "execute_result"
    }
   ],
   "source": [
    "unitfied"
   ]
  },
  {
   "cell_type": "code",
   "execution_count": 11,
   "metadata": {},
   "outputs": [],
   "source": [
    "def linearIterpo(x1,x2,y1,y2,x):\n",
    "    r = (x-x1) / (x2-x1)\n",
    "    return (1-r)*y1 + r*y2"
   ]
  },
  {
   "cell_type": "code",
   "execution_count": 12,
   "metadata": {},
   "outputs": [],
   "source": [
    "def find_range(x):\n",
    "    tmp = 1/unitfied\n",
    "    for i in range(len(interest_rate)-1):\n",
    "        if interest_rate[i] <= x and x < interest_rate[i+1]:\n",
    "            return  interest_rate[i], interest_rate[i+1], tmp[i],tmp[i+1]\n",
    "    return None"
   ]
  },
  {
   "cell_type": "code",
   "execution_count": 13,
   "metadata": {},
   "outputs": [],
   "source": [
    "interest_rate_thero = np.linspace(0.054,2.68,500)\n",
    "tx = []\n",
    "ty = []\n",
    "for i in range(0, len(interest_rate_thero)-1):\n",
    "    x=interest_rate_thero[i]\n",
    "    x1,x2,y1,y2 = find_range(x)\n",
    "    y = linearIterpo(x1,x2,y1,y2,x)\n",
    "    tx.append(x)\n",
    "    ty.append(y)\n",
    "tx.append(interest_rate[-1])\n",
    "ty.append(rate_block[-1])"
   ]
  },
  {
   "cell_type": "code",
   "execution_count": 27,
   "metadata": {},
   "outputs": [
    {
     "data": {
      "text/plain": [
       "0"
      ]
     },
     "execution_count": 27,
     "metadata": {},
     "output_type": "execute_result"
    },
    {
     "data": {
      "image/png": "[encoded data removed]",
      "text/plain": [
       "<Figure size 1600x1200 with 1 Axes>"
      ]
     },
     "metadata": {
      "needs_background": "light"
     },
     "output_type": "display_data"
    }
   ],
   "source": [
    "plt.figure(figsize=(2*8, 2*6), dpi=100)\n",
    "plt.plot(tx,ty)\n",
    "plt.scatter(interest_rate, 1/unitfied)"
   ]
  },
  {
   "cell_type": "code",
   "execution_count": 31,
   "metadata": {},
   "outputs": [
    {
     "data": {
      "text/plain": [
       "3.5924698149837126e-13"
      ]
     },
     "execution_count": 31,
     "metadata": {},
     "output_type": "execute_result"
    }
   ],
   "source": [
    "# max error\n",
    "np.abs(1/unitfied - rate_block).max()"
   ]
  },
  {
   "cell_type": "code",
   "execution_count": 33,
   "metadata": {},
   "outputs": [
    {
     "data": {
      "text/plain": [
       "120"
      ]
     },
     "execution_count": 33,
     "metadata": {},
     "output_type": "execute_result"
    }
   ],
   "source": [
    "(np.abs(1/unitfied - rate_block) < 1e-12).sum()"
   ]
  },
  {
   "cell_type": "code",
   "execution_count": 41,
   "metadata": {},
   "outputs": [],
   "source": [
    "def test_accuracy(x):\n",
    "    x1,x2,y1,y2 = find_range(x)\n",
    "    y = linearIterpo(x1,x2,y1,y2,x)\n",
    "\n",
    "    stake = random.randint(82788888000032, 10 * 82788888000032)\n",
    "    y = 10e16 / (y * 10e16)\n",
    "    y = int(np.ceil(y))\n",
    "    total = int(stake)\n",
    "    for i in range(block_year):\n",
    "        rw  = total // y\n",
    "        total += rw\n",
    "    return (total - stake)/stake"
   ]
  },
  {
   "cell_type": "code",
   "execution_count": 42,
   "metadata": {},
   "outputs": [
    {
     "data": {
      "text/plain": [
       "0.2999949797840685"
      ]
     },
     "execution_count": 42,
     "metadata": {},
     "output_type": "execute_result"
    }
   ],
   "source": [
    "test_accuracy(0.3)"
   ]
  }
 ],
 "metadata": {
  "kernelspec": {
   "display_name": "Python 3 (ipykernel)",
   "language": "python",
   "name": "python3"
  },
  "language_info": {
   "codemirror_mode": {
    "name": "ipython",
    "version": 3
   },
   "file_extension": ".py",
   "mimetype": "text/x-python",
   "name": "python",
   "nbconvert_exporter": "python",
   "pygments_lexer": "ipython3",
   "version": "3.9.7"
  }
 },
 "nbformat": 4,
 "nbformat_minor": 2
}
